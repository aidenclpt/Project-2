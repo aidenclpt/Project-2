{
 "cells": [
  {
   "cell_type": "code",
   "execution_count": 2,
   "metadata": {
    "collapsed": true
   },
   "outputs": [],
   "source": [
    "%matplotlib inline\n",
    "\n",
    "from modsim import *"
   ]
  },
  {
   "cell_type": "code",
   "execution_count": 3,
   "metadata": {
    "collapsed": true
   },
   "outputs": [],
   "source": [
    "r_coffee = 0.00019348499840078214 #I calculated this using the code from notebook 7, this is a factor that allows us \n",
    "                                  # to use 1 second increments instead of 1 minute increments \n",
    "                                  # times should be multiplied by 60 to get actual time in seconds\n",
    "init = State(temp=90, steeping = 0)\n",
    "tea = System(init=init, volume=300, \n",
    "             r = 0.012, s_inf=1.01,\n",
    "                T_env=22,\n",
    "                t0=0, \n",
    "                t_end=30,\n",
    "                dt=1)"
   ]
  },
  {
   "cell_type": "code",
   "execution_count": 4,
   "metadata": {
    "collapsed": true
   },
   "outputs": [],
   "source": [
    "def update(state, system):\n",
    "    \"\"\"Update the thermal transfer and steeping factor\n",
    "    \n",
    "    state: State (temp, steeping)\n",
    "    system: System object\n",
    "    \n",
    "    returns: State (temp, steeping)\n",
    "    \"\"\"\n",
    "    unpack(system)\n",
    "    T = state.temp\n",
    "    T += -r * (T - T_env) * dt\n",
    "    \n",
    "    sf = state.steeping\n",
    "    dsfdt = exp(-1/T)*(sf - s_inf)**2\n",
    "    sf += dsfdt*dt\n",
    "\n",
    "    return State(temp=T, steeping = sf)"
   ]
  },
  {
   "cell_type": "code",
   "execution_count": 5,
   "metadata": {
    "collapsed": true
   },
   "outputs": [],
   "source": [
    "def run_simulation(system, update_func):\n",
    "    \"\"\"Runs a simulation of the system.\n",
    "    \n",
    "    Add a TimeFrame to the System: results\n",
    "    \n",
    "    system: System object\n",
    "    update_func: function that updates state\n",
    "    \"\"\"\n",
    "    unpack(system)\n",
    "    \n",
    "    frame = TimeFrame(columns=init.index)\n",
    "    frame.loc[t0] = init\n",
    "    ts = linrange(t0, t_end-dt, dt)\n",
    "    \n",
    "    for t in ts:\n",
    "        frame.loc[t+dt] = update_func(frame.loc[t], system)\n",
    "    \n",
    "    system.results = frame"
   ]
  },
  {
   "cell_type": "code",
   "execution_count": 6,
   "metadata": {
    "collapsed": true
   },
   "outputs": [],
   "source": [
    "run_simulation(tea, update)\n"
   ]
  },
  {
   "cell_type": "code",
   "execution_count": 7,
   "metadata": {
    "collapsed": true
   },
   "outputs": [],
   "source": [
    "def make_system(T_init=90, r=0.01, s_inf = 1.01, volume=300, t_end=30):\n",
    "    \"\"\"Makes a system with the given parameters.\n",
    "\n",
    "    T_init: initial temperature in degC\n",
    "    r: heat transfer rate, in 1/min\n",
    "    volume: volume of liquid in mL\n",
    "    t_end: end time of simulation\n",
    "    \n",
    "    returns: System object\n",
    "    \"\"\"\n",
    "    init = State(temp=T_init, steeping = 0)\n",
    "    \n",
    "    system = System(init=init,\n",
    "                    volume=volume,\n",
    "                    r=r,\n",
    "                    s_inf = s_inf,\n",
    "                    T_env=22, \n",
    "                    t0=0,\n",
    "                    t_end=t_end,\n",
    "                    dt=1)\n",
    "    return system"
   ]
  },
  {
   "cell_type": "code",
   "execution_count": 23,
   "metadata": {
    "collapsed": true
   },
   "outputs": [],
   "source": [
    "def final_steeping(system):\n",
    "    \"\"\"Final steeping factor.\n",
    "    \n",
    "    If system has no results, return initial steeping factor.\n",
    "    \n",
    "    system: System object.\n",
    "    \n",
    "    returns: steeping factor (arbitrary units)\n",
    "    \"\"\"    \n",
    "    if hasattr(system, 'results'):\n",
    "        return system.results.steeping[system.t_end]\n",
    "    else:\n",
    "        return system.init.temp\n",
    "    \n",
    "def error_func(s_inf):\n",
    "    \"\"\"Runs a simulation and returns the `error`.\n",
    "    \n",
    "    r: heat transfer rate, in 1/min\n",
    "    \n",
    "    returns: difference between final temp and 70 C\n",
    "    \"\"\"\n",
    "    system = make_system(T_init=90, r = r_coffee, s_inf = s_inf, volume=300, t_end=60*1) #Change t_end to determine how long the\n",
    "                                                            #tea takes to get to a certain percent of s_inf\n",
    "    run_simulation(system, update)\n",
    "    return final_steeping(system) - s_inf * 0.5            #this number is the percent of s_sinf the system reaches by 8 minutes"
   ]
  },
  {
   "cell_type": "code",
   "execution_count": 24,
   "metadata": {},
   "outputs": [
    {
     "data": {
      "image/png": "[encoded data removed]",
      "text/plain": [
       "<matplotlib.figure.Figure at 0x263b66bffd0>"
      ]
     },
     "metadata": {},
     "output_type": "display_data"
    }
   ],
   "source": [
    "\n",
    "system = make_system(T_init=90, r = r_coffee, s_inf = .05, volume=300, t_end=240)\n",
    "run_simulation(system, update)\n",
    "plot(system.results.steeping)"
   ]
  },
  {
   "cell_type": "code",
   "execution_count": 25,
   "metadata": {},
   "outputs": [
    {
     "data": {
      "text/plain": [
       "0.016660092207575108"
      ]
     },
     "execution_count": 25,
     "metadata": {},
     "output_type": "execute_result"
    }
   ],
   "source": [
    "solution = fsolve(error_func, 1) #usinf fsolve to find the steeping factor at infinity assuming full brewing at 8 minutes\n",
    "s_inf = solution[0]\n",
    "s_inf\n"
   ]
  },
  {
   "cell_type": "code",
   "execution_count": 26,
   "metadata": {},
   "outputs": [
    {
     "data": {
      "image/png": "[encoded data removed]",
      "text/plain": [
       "<matplotlib.figure.Figure at 0x263b555fa90>"
      ]
     },
     "metadata": {},
     "output_type": "display_data"
    },
    {
     "data": {
      "image/png": "[encoded data removed]",
      "text/plain": [
       "<matplotlib.figure.Figure at 0x263b5167f98>"
      ]
     },
     "metadata": {},
     "output_type": "display_data"
    }
   ],
   "source": [
    "system = make_system(T_init=90, r = r_coffee, s_inf = s_inf, volume=300, t_end=60*8)\n",
    "run_simulation(system, update)\n",
    "plot(system.results.steeping)\n",
    "newfig()\n",
    "plot(system.results.temp)"
   ]
  },
  {
   "cell_type": "code",
   "execution_count": 163,
   "metadata": {},
   "outputs": [
    {
     "data": {
      "text/plain": [
       "0.0022620086844880039"
      ]
     },
     "execution_count": 163,
     "metadata": {},
     "output_type": "execute_result"
    }
   ],
   "source": [
    "error_func(1)"
   ]
  },
  {
   "cell_type": "code",
   "execution_count": 204,
   "metadata": {},
   "outputs": [
    {
     "data": {
      "text/html": [
       "<div>\n",
       "<style>\n",
       "    .dataframe thead tr:only-child th {\n",
       "        text-align: right;\n",
       "    }\n",
       "\n",
       "    .dataframe thead th {\n",
       "        text-align: left;\n",
       "    }\n",
       "\n",
       "    .dataframe tbody tr th {\n",
       "        vertical-align: top;\n",
       "    }\n",
       "</style>\n",
       "<table border=\"1\" class=\"dataframe\">\n",
       "  <thead>\n",
       "    <tr style=\"text-align: right;\">\n",
       "      <th></th>\n",
       "      <th>value</th>\n",
       "    </tr>\n",
       "  </thead>\n",
       "  <tbody>\n",
       "    <tr>\n",
       "      <th>temp</th>\n",
       "      <td>89.973689</td>\n",
       "    </tr>\n",
       "    <tr>\n",
       "      <th>steeping</th>\n",
       "      <td>1.008825</td>\n",
       "    </tr>\n",
       "  </tbody>\n",
       "</table>\n",
       "</div>"
      ],
      "text/plain": [
       "temp        89.973689\n",
       "steeping     1.008825\n",
       "dtype: float64"
      ]
     },
     "execution_count": 204,
     "metadata": {},
     "output_type": "execute_result"
    }
   ],
   "source": [
    "tea = make_system(T_init=90, r = r_coffee, s_inf = 1.01, volume=300, t_end=240)\n",
    "update(tea.init, tea)"
   ]
  },
  {
   "cell_type": "code",
   "execution_count": 186,
   "metadata": {},
   "outputs": [
    {
     "data": {
      "text/plain": [
       "0.0024723759732348063"
      ]
     },
     "execution_count": 186,
     "metadata": {},
     "output_type": "execute_result"
    }
   ],
   "source": [
    "exp(-1/90)*(0 - 0.05)**2"
   ]
  },
  {
   "cell_type": "code",
   "execution_count": null,
   "metadata": {
    "collapsed": true
   },
   "outputs": [],
   "source": []
  }
 ],
 "metadata": {
  "kernelspec": {
   "display_name": "Python 3",
   "language": "python",
   "name": "python3"
  },
  "language_info": {
   "codemirror_mode": {
    "name": "ipython",
    "version": 3
   },
   "file_extension": ".py",
   "mimetype": "text/x-python",
   "name": "python",
   "nbconvert_exporter": "python",
   "pygments_lexer": "ipython3",
   "version": "3.6.1"
  }
 },
 "nbformat": 4,
 "nbformat_minor": 2
}
